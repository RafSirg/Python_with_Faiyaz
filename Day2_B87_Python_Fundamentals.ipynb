{
 "cells": [
  {
   "cell_type": "code",
   "execution_count": null,
   "id": "d6b00c87-615d-46be-afec-f6f2c87d7c1c",
   "metadata": {},
   "outputs": [],
   "source": [
    "Introduction to python programming :"
   ]
  },
  {
   "cell_type": "code",
   "execution_count": null,
   "id": "e2793030-a2d0-49b7-9eb2-39febdbdea67",
   "metadata": {},
   "outputs": [],
   "source": []
  },
  {
   "cell_type": "code",
   "execution_count": null,
   "id": "b9d7f4dc-732a-4f76-9067-ace080d70098",
   "metadata": {},
   "outputs": [],
   "source": [
    "Understanding the variables in python"
   ]
  },
  {
   "cell_type": "code",
   "execution_count": null,
   "id": "12735488-bad6-47b2-a363-4d8650cc7543",
   "metadata": {},
   "outputs": [],
   "source": []
  },
  {
   "cell_type": "code",
   "execution_count": 1,
   "id": "38a5a685-08aa-42c4-bef7-dedaadc343c4",
   "metadata": {},
   "outputs": [
    {
     "ename": "SyntaxError",
     "evalue": "invalid syntax (693082958.py, line 1)",
     "output_type": "error",
     "traceback": [
      "\u001b[1;36m  Cell \u001b[1;32mIn[1], line 1\u001b[1;36m\u001b[0m\n\u001b[1;33m    variables hold certain value assigned to in\u001b[0m\n\u001b[1;37m              ^\u001b[0m\n\u001b[1;31mSyntaxError\u001b[0m\u001b[1;31m:\u001b[0m invalid syntax\n"
     ]
    }
   ],
   "source": [
    "variables hold certain value assigned to in"
   ]
  },
  {
   "cell_type": "code",
   "execution_count": 2,
   "id": "8809f039-e50a-4fe0-b3e0-eff92a64c122",
   "metadata": {},
   "outputs": [],
   "source": [
    "x=2 "
   ]
  },
  {
   "cell_type": "code",
   "execution_count": 3,
   "id": "2b813ab6-4e63-4003-badb-fd9d475cbe4d",
   "metadata": {},
   "outputs": [
    {
     "name": "stdout",
     "output_type": "stream",
     "text": [
      "5\n"
     ]
    }
   ],
   "source": [
    "y=3\n",
    "z= x+y\n",
    "print(z)"
   ]
  },
  {
   "cell_type": "code",
   "execution_count": null,
   "id": "bf263543-6d9c-4212-bd13-511ce831c1ca",
   "metadata": {},
   "outputs": [],
   "source": [
    "Rules for decalaring the variables in python:\n",
    "Rule 1: No Namespaces while declaring the variable names in python\n"
   ]
  },
  {
   "cell_type": "code",
   "execution_count": 4,
   "id": "2a67eabd-d803-42bc-865c-41c0848ece1e",
   "metadata": {},
   "outputs": [
    {
     "ename": "SyntaxError",
     "evalue": "unterminated string literal (detected at line 1) (2569003172.py, line 1)",
     "output_type": "error",
     "traceback": [
      "\u001b[1;36m  Cell \u001b[1;32mIn[4], line 1\u001b[1;36m\u001b[0m\n\u001b[1;33m    first name = 'Rafi\"\u001b[0m\n\u001b[1;37m                 ^\u001b[0m\n\u001b[1;31mSyntaxError\u001b[0m\u001b[1;31m:\u001b[0m unterminated string literal (detected at line 1)\n"
     ]
    }
   ],
   "source": [
    "first name = 'Rafi\"\n",
    "print(name)"
   ]
  },
  {
   "cell_type": "code",
   "execution_count": 6,
   "id": "92b4225c-4288-4d13-a96d-1dca84e857ad",
   "metadata": {},
   "outputs": [
    {
     "name": "stdout",
     "output_type": "stream",
     "text": [
      "Rafi\n"
     ]
    }
   ],
   "source": [
    "firstname = 'Rafi'\n",
    "print(firstname)"
   ]
  },
  {
   "cell_type": "code",
   "execution_count": null,
   "id": "2f6e3ff8-128d-4f4f-b052-4d123400a058",
   "metadata": {},
   "outputs": [],
   "source": []
  },
  {
   "cell_type": "code",
   "execution_count": 7,
   "id": "eaa78695-996f-43a1-bb3f-82f1998fac04",
   "metadata": {},
   "outputs": [
    {
     "ename": "SyntaxError",
     "evalue": "invalid decimal literal (1355149158.py, line 4)",
     "output_type": "error",
     "traceback": [
      "\u001b[1;36m  Cell \u001b[1;32mIn[7], line 4\u001b[1;36m\u001b[0m\n\u001b[1;33m    2Name = 'Rafi'\u001b[0m\n\u001b[1;37m    ^\u001b[0m\n\u001b[1;31mSyntaxError\u001b[0m\u001b[1;31m:\u001b[0m invalid decimal literal\n"
     ]
    }
   ],
   "source": [
    "\n",
    "Rule #2\n",
    "A variable name should not start with a number (**) /* 2 stars is interview question */\n",
    "\n",
    "2Name = 'Rafi'\n",
    "print(2Name)"
   ]
  },
  {
   "cell_type": "code",
   "execution_count": 10,
   "id": "d4a313e4-bd45-4bac-9dc5-0d1a2c411b84",
   "metadata": {},
   "outputs": [
    {
     "name": "stdout",
     "output_type": "stream",
     "text": [
      "Rafi\n"
     ]
    }
   ],
   "source": [
    "Name2 = 'Rafi'\n",
    "print(Name2)"
   ]
  },
  {
   "cell_type": "code",
   "execution_count": null,
   "id": "200b3fb7-0c18-4aaa-9f78-e1b0a24a834f",
   "metadata": {},
   "outputs": [],
   "source": [
    "Rule #3 : A variable should not contain any special characters\n",
    "@ # $ % ^ &"
   ]
  },
  {
   "cell_type": "code",
   "execution_count": 11,
   "id": "8df7976e-8950-49d7-9cc3-ddf1b4fa36da",
   "metadata": {},
   "outputs": [
    {
     "ename": "SyntaxError",
     "evalue": "invalid syntax (3744892587.py, line 1)",
     "output_type": "error",
     "traceback": [
      "\u001b[1;36m  Cell \u001b[1;32mIn[11], line 1\u001b[1;36m\u001b[0m\n\u001b[1;33m    Name@ = 'Raf'\u001b[0m\n\u001b[1;37m          ^\u001b[0m\n\u001b[1;31mSyntaxError\u001b[0m\u001b[1;31m:\u001b[0m invalid syntax\n"
     ]
    }
   ],
   "source": [
    "Name@ = 'Raf'\n",
    "print(Name@)"
   ]
  },
  {
   "cell_type": "code",
   "execution_count": null,
   "id": "8a5ef61b-7c93-4794-9976-72447d846d44",
   "metadata": {},
   "outputs": [],
   "source": []
  },
  {
   "cell_type": "code",
   "execution_count": null,
   "id": "eef59594-ae4e-49e7-87fa-fe92b209e6c6",
   "metadata": {},
   "outputs": [],
   "source": [
    "Inrtoduction to Data Types in Python"
   ]
  },
  {
   "cell_type": "code",
   "execution_count": null,
   "id": "c485ce81-7fdf-4618-9030-bcb4a388f32e",
   "metadata": {},
   "outputs": [],
   "source": [
    "1. strings ---> str\n",
    "\n",
    "2. Numbers ---> integers --> int and floats (decimals ---1.0. 0.2)\n",
    "\n",
    "3. list --> list\n",
    "\n",
    "4. tuples --> tuple\n",
    "\n",
    "5. Dictionaries --> dict\n"
   ]
  },
  {
   "cell_type": "code",
   "execution_count": null,
   "id": "ac34e61d-4873-4d7d-baf7-99e35722f28a",
   "metadata": {},
   "outputs": [],
   "source": [
    "Note: python is a case sensitive programming language"
   ]
  },
  {
   "cell_type": "code",
   "execution_count": null,
   "id": "eef898e3-034a-4faa-b42f-64d519962d18",
   "metadata": {},
   "outputs": [],
   "source": []
  },
  {
   "cell_type": "code",
   "execution_count": null,
   "id": "975bd046-39d8-4c09-a11e-63674cc58a06",
   "metadata": {},
   "outputs": [],
   "source": [
    "Classification of data types in python:"
   ]
  },
  {
   "cell_type": "code",
   "execution_count": null,
   "id": "2b435c1a-f626-40a6-9d88-09cef9c25baf",
   "metadata": {},
   "outputs": [],
   "source": [
    "Broadly datatypes are classified into 2 categories:\n",
    "\n",
    "1. mutabale datatypes --> which we can edit / alter --> flexible in nature\n",
    "\n",
    "2. immutable datatypes --> which we cannot be edit --> these are fixed in nature"
   ]
  },
  {
   "cell_type": "code",
   "execution_count": null,
   "id": "a010a36c-829c-42a4-a989-dd72fb25c5d3",
   "metadata": {},
   "outputs": [],
   "source": []
  },
  {
   "cell_type": "code",
   "execution_count": null,
   "id": "239774b3-a3ac-4394-98c1-cacd210ec41a",
   "metadata": {},
   "outputs": [],
   "source": [
    "Introduction to string Datatype:\n",
    "\n",
    "defination: string is a series of characters declared in quotes.\n",
    "\n",
    "classification : It is classified as an immutable datatype\n",
    "\n",
    "how to declare the string datatype --> 2 approaches\n",
    "\n",
    "1. single quote\n",
    "\n",
    "2. double quote"
   ]
  },
  {
   "cell_type": "code",
   "execution_count": 12,
   "id": "48a47148-f6a7-4375-b1e9-37c2fc4bbfc7",
   "metadata": {},
   "outputs": [
    {
     "name": "stdout",
     "output_type": "stream",
     "text": [
      "joseph\n"
     ]
    }
   ],
   "source": [
    "name = 'joseph'\n",
    "print(name)"
   ]
  },
  {
   "cell_type": "code",
   "execution_count": 13,
   "id": "c3803c28-3229-4943-9e27-b0dcb3d014c9",
   "metadata": {},
   "outputs": [
    {
     "name": "stdout",
     "output_type": "stream",
     "text": [
      "kavya\n"
     ]
    }
   ],
   "source": [
    "name2 = \"kavya\"\n",
    "print(name2)"
   ]
  },
  {
   "cell_type": "code",
   "execution_count": null,
   "id": "c9e3e3ae-2043-45b8-8d5b-7aba1e9fa65f",
   "metadata": {},
   "outputs": [],
   "source": []
  },
  {
   "cell_type": "code",
   "execution_count": null,
   "id": "055587b4-5cb1-472e-9a3c-4640ae7f9cd5",
   "metadata": {},
   "outputs": [],
   "source": [
    "Introduction to string methods methods:"
   ]
  },
  {
   "cell_type": "code",
   "execution_count": 15,
   "id": "022562ac-c7e1-431e-8db5-558eed84b079",
   "metadata": {},
   "outputs": [
    {
     "data": {
      "text/plain": [
       "str"
      ]
     },
     "execution_count": 15,
     "metadata": {},
     "output_type": "execute_result"
    }
   ],
   "source": [
    "type(name)"
   ]
  },
  {
   "cell_type": "code",
   "execution_count": 17,
   "id": "a571e0d7-c88d-4f15-b7c3-8f1087bcf8d8",
   "metadata": {},
   "outputs": [
    {
     "data": {
      "text/plain": [
       "str"
      ]
     },
     "execution_count": 17,
     "metadata": {},
     "output_type": "execute_result"
    }
   ],
   "source": [
    "type(name2)"
   ]
  },
  {
   "cell_type": "code",
   "execution_count": 19,
   "id": "9c2e5499-5eab-47ca-a511-26ac36313801",
   "metadata": {},
   "outputs": [
    {
     "name": "stdout",
     "output_type": "stream",
     "text": [
      "zeba ansari\n"
     ]
    }
   ],
   "source": [
    "fullname = 'zeba ansari'\n",
    "print(fullname)"
   ]
  },
  {
   "cell_type": "markdown",
   "id": "f464a159-2da4-4bc1-993e-4127c8019fba",
   "metadata": {},
   "source": [
    "#requirement : change case to proper case"
   ]
  },
  {
   "cell_type": "code",
   "execution_count": 20,
   "id": "61d7629f-8d2a-4c0e-9020-776d20bf0c77",
   "metadata": {},
   "outputs": [
    {
     "name": "stdout",
     "output_type": "stream",
     "text": [
      "Zeba Ansari\n"
     ]
    }
   ],
   "source": [
    "print(fullname.title())"
   ]
  },
  {
   "cell_type": "code",
   "execution_count": null,
   "id": "3669ec05-d69c-4686-9445-265259125ed7",
   "metadata": {},
   "outputs": [],
   "source": [
    "# requirement 2 : I want the entire name in Upper Case"
   ]
  },
  {
   "cell_type": "code",
   "execution_count": 21,
   "id": "e1f1fb12-2f33-49f2-bc90-75a81e5ac578",
   "metadata": {},
   "outputs": [
    {
     "name": "stdout",
     "output_type": "stream",
     "text": [
      "ZEBA ANSARI\n"
     ]
    }
   ],
   "source": [
    "print(fullname.upper())"
   ]
  },
  {
   "cell_type": "code",
   "execution_count": null,
   "id": "ece6fa0b-c44b-41b5-a82a-53b9bba5b9a5",
   "metadata": {},
   "outputs": [],
   "source": [
    "# lowercase"
   ]
  },
  {
   "cell_type": "code",
   "execution_count": 23,
   "id": "44a19115-cc6b-4ade-b77a-d71059f91426",
   "metadata": {},
   "outputs": [
    {
     "name": "stdout",
     "output_type": "stream",
     "text": [
      "zeba ansari\n"
     ]
    }
   ],
   "source": [
    "print(fullname.lower())"
   ]
  },
  {
   "cell_type": "code",
   "execution_count": null,
   "id": "91685c8e-e579-44c8-9247-86c34dbf2207",
   "metadata": {},
   "outputs": [],
   "source": []
  },
  {
   "cell_type": "code",
   "execution_count": null,
   "id": "8cdd6869-814d-451c-9dfd-6074fd3fc18c",
   "metadata": {},
   "outputs": [],
   "source": []
  }
 ],
 "metadata": {
  "kernelspec": {
   "display_name": "Python 3 (ipykernel)",
   "language": "python",
   "name": "python3"
  },
  "language_info": {
   "codemirror_mode": {
    "name": "ipython",
    "version": 3
   },
   "file_extension": ".py",
   "mimetype": "text/x-python",
   "name": "python",
   "nbconvert_exporter": "python",
   "pygments_lexer": "ipython3",
   "version": "3.13.5"
  }
 },
 "nbformat": 4,
 "nbformat_minor": 5
}
