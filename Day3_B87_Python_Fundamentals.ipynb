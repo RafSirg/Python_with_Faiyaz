{
 "cells": [
  {
   "cell_type": "code",
   "execution_count": null,
   "id": "903e9199-d9b0-4a31-9afb-01de29d88e4b",
   "metadata": {},
   "outputs": [],
   "source": [
    "Continuation with String Data type :"
   ]
  },
  {
   "cell_type": "code",
   "execution_count": null,
   "id": "341c48ce-5bff-4ef3-9737-16afad6e9c9b",
   "metadata": {},
   "outputs": [],
   "source": []
  },
  {
   "cell_type": "code",
   "execution_count": null,
   "id": "40722efa-c5fc-4b28-b775-d323f939737e",
   "metadata": {},
   "outputs": [],
   "source": [
    "Intrroduction to f string **"
   ]
  },
  {
   "cell_type": "code",
   "execution_count": null,
   "id": "f857b779-7763-441c-86c1-5e6a08fda497",
   "metadata": {},
   "outputs": [],
   "source": [
    "syntax: f\"custom message (place_holder} {placeholder_2}..... {placeholder_n}\""
   ]
  },
  {
   "cell_type": "code",
   "execution_count": null,
   "id": "b25a456c-d166-4734-a2fe-31fea5153b68",
   "metadata": {},
   "outputs": [],
   "source": [
    "firstname = \"Rafique\"\n",
    "lastname = \"Khan\"\n",
    "fullname = f\"{firstname} {lastname}\"\n",
    "print(fullname)"
   ]
  },
  {
   "cell_type": "code",
   "execution_count": null,
   "id": "d9951c45-35b7-4dd9-99bc-b396faa842dd",
   "metadata": {},
   "outputs": [],
   "source": [
    "# req get full name"
   ]
  },
  {
   "cell_type": "code",
   "execution_count": null,
   "id": "fa60cd28-949f-442b-8ed4-6b87f48aae71",
   "metadata": {},
   "outputs": [],
   "source": []
  },
  {
   "cell_type": "code",
   "execution_count": null,
   "id": "14599126-a971-43f8-a63e-4a3a4cfac7dd",
   "metadata": {},
   "outputs": [],
   "source": [
    "Removing whitespaces from the string :"
   ]
  },
  {
   "cell_type": "code",
   "execution_count": 9,
   "id": "b58d5853-267d-4b10-a749-88cb878b35a8",
   "metadata": {},
   "outputs": [
    {
     "name": "stdout",
     "output_type": "stream",
     "text": [
      " python\n"
     ]
    }
   ],
   "source": [
    "name=\" python\"\n",
    "\n",
    "print(name)"
   ]
  },
  {
   "cell_type": "code",
   "execution_count": 11,
   "id": "318b96a1-7d1b-4af9-ac83-09bd705803f6",
   "metadata": {},
   "outputs": [
    {
     "name": "stdout",
     "output_type": "stream",
     "text": [
      "python \n"
     ]
    }
   ],
   "source": [
    "name2=\"python \"\n",
    "\n",
    "print(name2)"
   ]
  },
  {
   "cell_type": "code",
   "execution_count": 12,
   "id": "a1ba0641-02fd-4032-a603-fac57e6a7017",
   "metadata": {},
   "outputs": [
    {
     "data": {
      "text/plain": [
       "'python'"
      ]
     },
     "execution_count": 12,
     "metadata": {},
     "output_type": "execute_result"
    }
   ],
   "source": [
    "name.lstrip()"
   ]
  },
  {
   "cell_type": "code",
   "execution_count": 13,
   "id": "3d66b29e-5a09-447b-8b51-f5bbfd7ba778",
   "metadata": {},
   "outputs": [
    {
     "data": {
      "text/plain": [
       "'python'"
      ]
     },
     "execution_count": 13,
     "metadata": {},
     "output_type": "execute_result"
    }
   ],
   "source": [
    "name2.rstrip()"
   ]
  },
  {
   "cell_type": "code",
   "execution_count": 15,
   "id": "51ca2865-15ad-45bd-b70d-db911d9c2e92",
   "metadata": {},
   "outputs": [
    {
     "name": "stdout",
     "output_type": "stream",
     "text": [
      "    python    \n"
     ]
    }
   ],
   "source": [
    "name4 = '    python    '\n",
    "print(name4)"
   ]
  },
  {
   "cell_type": "code",
   "execution_count": 21,
   "id": "3eef157e-5450-4615-bcc5-16e241eb9d9a",
   "metadata": {},
   "outputs": [
    {
     "data": {
      "text/plain": [
       "'python'"
      ]
     },
     "execution_count": 21,
     "metadata": {},
     "output_type": "execute_result"
    }
   ],
   "source": [
    "name4.strip()"
   ]
  },
  {
   "cell_type": "code",
   "execution_count": null,
   "id": "a464d0fb-0e18-4ee5-a645-b1617f922f3c",
   "metadata": {},
   "outputs": [],
   "source": []
  },
  {
   "cell_type": "code",
   "execution_count": null,
   "id": "3a2a2b49-2dd1-4494-a719-1a5a41c679a2",
   "metadata": {},
   "outputs": [],
   "source": [
    "# zen of python : Guiding Principles"
   ]
  },
  {
   "cell_type": "code",
   "execution_count": 22,
   "id": "26e6be6b-744f-4868-982d-6129546c76c5",
   "metadata": {},
   "outputs": [
    {
     "name": "stdout",
     "output_type": "stream",
     "text": [
      "The Zen of Python, by Tim Peters\n",
      "\n",
      "Beautiful is better than ugly.\n",
      "Explicit is better than implicit.\n",
      "Simple is better than complex.\n",
      "Complex is better than complicated.\n",
      "Flat is better than nested.\n",
      "Sparse is better than dense.\n",
      "Readability counts.\n",
      "Special cases aren't special enough to break the rules.\n",
      "Although practicality beats purity.\n",
      "Errors should never pass silently.\n",
      "Unless explicitly silenced.\n",
      "In the face of ambiguity, refuse the temptation to guess.\n",
      "There should be one-- and preferably only one --obvious way to do it.\n",
      "Although that way may not be obvious at first unless you're Dutch.\n",
      "Now is better than never.\n",
      "Although never is often better than *right* now.\n",
      "If the implementation is hard to explain, it's a bad idea.\n",
      "If the implementation is easy to explain, it may be a good idea.\n",
      "Namespaces are one honking great idea -- let's do more of those!\n"
     ]
    }
   ],
   "source": [
    "import this"
   ]
  },
  {
   "cell_type": "code",
   "execution_count": null,
   "id": "e15c5f8d-0ac6-4053-98fb-62002404d58d",
   "metadata": {},
   "outputs": [],
   "source": [
    "In short keep things as simple and as clean as possible on Python Programming\n"
   ]
  }
 ],
 "metadata": {
  "kernelspec": {
   "display_name": "Python 3 (ipykernel)",
   "language": "python",
   "name": "python3"
  },
  "language_info": {
   "codemirror_mode": {
    "name": "ipython",
    "version": 3
   },
   "file_extension": ".py",
   "mimetype": "text/x-python",
   "name": "python",
   "nbconvert_exporter": "python",
   "pygments_lexer": "ipython3",
   "version": "3.13.5"
  }
 },
 "nbformat": 4,
 "nbformat_minor": 5
}
