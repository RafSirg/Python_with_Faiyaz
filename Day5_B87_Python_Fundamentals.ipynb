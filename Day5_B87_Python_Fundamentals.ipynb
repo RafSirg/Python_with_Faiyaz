{
 "cells": [
  {
   "cell_type": "code",
   "execution_count": null,
   "id": "c3e81f22-e022-4429-8a96-9b3f8d5d4557",
   "metadata": {},
   "outputs": [],
   "source": [
    "continuation with list datatype"
   ]
  },
  {
   "cell_type": "code",
   "execution_count": null,
   "id": "637dd813-6092-4c1a-8649-622838475e41",
   "metadata": {},
   "outputs": [],
   "source": []
  },
  {
   "cell_type": "code",
   "execution_count": null,
   "id": "09e698dd-ad47-4b76-8388-4face311f4e5",
   "metadata": {},
   "outputs": [],
   "source": [
    "Organising the list datatype : "
   ]
  },
  {
   "cell_type": "code",
   "execution_count": null,
   "id": "c0c5f1e5-29bb-4d2e-a9b7-9d897908781f",
   "metadata": {},
   "outputs": [],
   "source": []
  },
  {
   "cell_type": "code",
   "execution_count": 27,
   "id": "175622e3-d85d-4aa4-96f9-d3094511e694",
   "metadata": {},
   "outputs": [
    {
     "name": "stdout",
     "output_type": "stream",
     "text": [
      "['bmw', 'tata', 'suzuki', 'audi', 'merc', 'honda']\n"
     ]
    }
   ],
   "source": [
    "cars = ['bmw', 'tata', 'suzuki', 'audi', 'merc', 'honda']\n",
    "print(cars)"
   ]
  },
  {
   "cell_type": "code",
   "execution_count": 5,
   "id": "0a908567-4914-4944-9779-1b7f1b013cdf",
   "metadata": {},
   "outputs": [
    {
     "data": {
      "text/plain": [
       "list"
      ]
     },
     "execution_count": 5,
     "metadata": {},
     "output_type": "execute_result"
    }
   ],
   "source": [
    "type(cars)"
   ]
  },
  {
   "cell_type": "code",
   "execution_count": null,
   "id": "4fa619a4-a030-4c7d-8aaf-73704fd758ec",
   "metadata": {},
   "outputs": [],
   "source": []
  },
  {
   "cell_type": "code",
   "execution_count": null,
   "id": "b00934a8-07ed-4261-8605-8aaaf1b3fd87",
   "metadata": {},
   "outputs": [],
   "source": [
    "# sort \n",
    "There are 2 approaches\n",
    "1. temporary sort - sorted(cars)\n",
    "2. Permanent sort - cars.sort()\n"
   ]
  },
  {
   "cell_type": "code",
   "execution_count": 28,
   "id": "d1a53e9e-3fac-4120-aec1-744f748eef2f",
   "metadata": {},
   "outputs": [
    {
     "name": "stdout",
     "output_type": "stream",
     "text": [
      "['audi', 'bmw', 'honda', 'merc', 'suzuki', 'tata']\n"
     ]
    }
   ],
   "source": [
    "print(sorted(cars))"
   ]
  },
  {
   "cell_type": "code",
   "execution_count": 29,
   "id": "319b77ff-2ff6-4fd1-b018-a03fae045446",
   "metadata": {},
   "outputs": [
    {
     "name": "stdout",
     "output_type": "stream",
     "text": [
      "['bmw', 'tata', 'suzuki', 'audi', 'merc', 'honda']\n"
     ]
    }
   ],
   "source": [
    "print(cars)"
   ]
  },
  {
   "cell_type": "code",
   "execution_count": null,
   "id": "ad972a2f-51b6-473a-9ca1-60d3dc6614a6",
   "metadata": {},
   "outputs": [],
   "source": []
  },
  {
   "cell_type": "raw",
   "id": "b3f197f2-29a7-4455-ae93-2139bec352dc",
   "metadata": {},
   "source": [
    "cars.sort()\n"
   ]
  },
  {
   "cell_type": "code",
   "execution_count": 30,
   "id": "fb3724c1-5f85-4b6f-94a2-34e201270574",
   "metadata": {},
   "outputs": [
    {
     "name": "stdout",
     "output_type": "stream",
     "text": [
      "['bmw', 'tata', 'suzuki', 'audi', 'merc', 'honda']\n"
     ]
    }
   ],
   "source": [
    "print(cars)"
   ]
  },
  {
   "cell_type": "code",
   "execution_count": 10,
   "id": "b3630711-288e-4149-a7da-87b88088b8a1",
   "metadata": {},
   "outputs": [
    {
     "data": {
      "text/plain": [
       "6"
      ]
     },
     "execution_count": 10,
     "metadata": {},
     "output_type": "execute_result"
    }
   ],
   "source": [
    "len(cars)"
   ]
  },
  {
   "cell_type": "raw",
   "id": "3273420c-9d78-456f-a486-19769048cc1d",
   "metadata": {},
   "source": []
  },
  {
   "cell_type": "code",
   "execution_count": 11,
   "id": "4f785067-e832-4ca7-932d-8b4c72ad59d3",
   "metadata": {},
   "outputs": [],
   "source": [
    "cars.reverse()"
   ]
  },
  {
   "cell_type": "code",
   "execution_count": null,
   "id": "8ec7848b-bc45-4c0a-ab5f-d4860a953818",
   "metadata": {},
   "outputs": [],
   "source": [
    "# Sort descending"
   ]
  },
  {
   "cell_type": "code",
   "execution_count": null,
   "id": "a3c6eb48-b86c-4e9b-a001-a088fe947ba2",
   "metadata": {},
   "outputs": [],
   "source": []
  },
  {
   "cell_type": "code",
   "execution_count": null,
   "id": "4a0e0756-a56d-48b8-a1f6-f93fc3174b9c",
   "metadata": {},
   "outputs": [],
   "source": [
    "Introduction to slicing"
   ]
  },
  {
   "cell_type": "code",
   "execution_count": null,
   "id": "ec413563-d76f-4386-8032-69cf35c9a49c",
   "metadata": {},
   "outputs": [],
   "source": []
  },
  {
   "cell_type": "code",
   "execution_count": 16,
   "id": "746995d3-b0d9-43a3-ad54-a60f14d9bb45",
   "metadata": {},
   "outputs": [
    {
     "name": "stdout",
     "output_type": "stream",
     "text": [
      "['anika']\n"
     ]
    }
   ],
   "source": [
    "students = ['anika', 'bhanu', 'chandra','danish','synthia','shanu']\n",
    "print(students[0:1])"
   ]
  },
  {
   "cell_type": "code",
   "execution_count": null,
   "id": "0a126877-c965-451e-9bc1-de254de92a7e",
   "metadata": {},
   "outputs": [],
   "source": [
    "# General synta\n",
    "[start_vlaue:stop_value: step_count]"
   ]
  },
  {
   "cell_type": "code",
   "execution_count": null,
   "id": "920c25a8-719a-4257-bb1d-6f5d3ee01f1a",
   "metadata": {},
   "outputs": [],
   "source": [
    "Note stop is always exclusive, to include the stop vlue increment by +1"
   ]
  },
  {
   "cell_type": "code",
   "execution_count": null,
   "id": "e1bc0093-4fb5-4c05-8e37-589926126497",
   "metadata": {},
   "outputs": [],
   "source": []
  },
  {
   "cell_type": "code",
   "execution_count": null,
   "id": "730ca04f-71ae-49d9-a3dc-7d89a47d51d1",
   "metadata": {},
   "outputs": [],
   "source": [
    "$req : include ankita and arpita in the slice"
   ]
  },
  {
   "cell_type": "code",
   "execution_count": 17,
   "id": "081e846a-c47a-4242-b2b2-3ea59648379c",
   "metadata": {},
   "outputs": [
    {
     "name": "stdout",
     "output_type": "stream",
     "text": [
      "['anika']\n"
     ]
    }
   ],
   "source": [
    "print(students[0:1])"
   ]
  },
  {
   "cell_type": "code",
   "execution_count": null,
   "id": "1f14a41a-89dc-440c-a0aa-7503172265c7",
   "metadata": {},
   "outputs": [],
   "source": []
  },
  {
   "cell_type": "code",
   "execution_count": 18,
   "id": "248771f8-b50e-419c-a0c8-1d563a05dc2b",
   "metadata": {},
   "outputs": [
    {
     "name": "stdout",
     "output_type": "stream",
     "text": [
      "['anika', 'chandra', 'synthia']\n"
     ]
    }
   ],
   "source": [
    "print(students[0:7:2])"
   ]
  },
  {
   "cell_type": "code",
   "execution_count": null,
   "id": "393a1c33-f243-4981-87a0-0ecd437baaf7",
   "metadata": {},
   "outputs": [],
   "source": []
  },
  {
   "cell_type": "code",
   "execution_count": null,
   "id": "a412cf47-7f73-4ae7-8a40-5a61a41d4a7e",
   "metadata": {},
   "outputs": [],
   "source": [
    "Introduction to tuple datatype:"
   ]
  },
  {
   "cell_type": "code",
   "execution_count": null,
   "id": "072ac39a-3a5c-40ce-9914-7caebc72829b",
   "metadata": {},
   "outputs": [],
   "source": [
    "definition: An immutable list is called as tuple\n",
    "\n",
    "classification: It is classified as immutable datatype, meaniing its fixed unable to modify \n",
    "\n",
    "how to define tuple datatype : by using ( )\n"
   ]
  },
  {
   "cell_type": "code",
   "execution_count": null,
   "id": "c3676a4a-6b61-4511-ab89-16cd3c22972e",
   "metadata": {},
   "outputs": [],
   "source": []
  },
  {
   "cell_type": "code",
   "execution_count": 20,
   "id": "9e60de68-b84c-48ba-9a7d-768d14054d0f",
   "metadata": {},
   "outputs": [],
   "source": [
    "dimensions = (20,50)"
   ]
  },
  {
   "cell_type": "code",
   "execution_count": 21,
   "id": "4970eb3d-91d3-496e-90cd-8900e3333294",
   "metadata": {},
   "outputs": [
    {
     "name": "stdout",
     "output_type": "stream",
     "text": [
      "(20, 50)\n"
     ]
    }
   ],
   "source": [
    "print(dimensions)"
   ]
  },
  {
   "cell_type": "code",
   "execution_count": 22,
   "id": "a5919dbc-8b7d-4395-b5d7-4e2e868a1006",
   "metadata": {},
   "outputs": [
    {
     "data": {
      "text/plain": [
       "tuple"
      ]
     },
     "execution_count": 22,
     "metadata": {},
     "output_type": "execute_result"
    }
   ],
   "source": [
    "type(dimensions)"
   ]
  },
  {
   "cell_type": "code",
   "execution_count": 26,
   "id": "cbfa7435-cd5a-49df-aeaf-e125fe9f76d9",
   "metadata": {},
   "outputs": [
    {
     "name": "stdout",
     "output_type": "stream",
     "text": [
      "50\n"
     ]
    }
   ],
   "source": [
    "print(dimensions[1])"
   ]
  },
  {
   "cell_type": "code",
   "execution_count": null,
   "id": "0e1634d2-95ee-4e09-ad07-93707e01040f",
   "metadata": {},
   "outputs": [],
   "source": []
  },
  {
   "cell_type": "code",
   "execution_count": null,
   "id": "64ccdcad-4e45-4702-84e4-d09ed501aedd",
   "metadata": {},
   "outputs": [],
   "source": []
  }
 ],
 "metadata": {
  "kernelspec": {
   "display_name": "Python 3 (ipykernel)",
   "language": "python",
   "name": "python3"
  },
  "language_info": {
   "codemirror_mode": {
    "name": "ipython",
    "version": 3
   },
   "file_extension": ".py",
   "mimetype": "text/x-python",
   "name": "python",
   "nbconvert_exporter": "python",
   "pygments_lexer": "ipython3",
   "version": "3.13.5"
  }
 },
 "nbformat": 4,
 "nbformat_minor": 5
}
