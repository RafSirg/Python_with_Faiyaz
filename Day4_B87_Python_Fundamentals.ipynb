{
 "cells": [
  {
   "cell_type": "code",
   "execution_count": null,
   "id": "7cf8c883-6ea0-4a08-9192-15282d4ea587",
   "metadata": {},
   "outputs": [],
   "source": [
    "Gettong started with python:"
   ]
  },
  {
   "cell_type": "code",
   "execution_count": null,
   "id": "4aa56e67-4d09-4346-8230-4a11cd5427a7",
   "metadata": {},
   "outputs": [],
   "source": []
  },
  {
   "cell_type": "code",
   "execution_count": null,
   "id": "59f6b22f-9156-453c-97a3-b05d9991dac4",
   "metadata": {},
   "outputs": [],
   "source": [
    "Introductio to datatype:\n",
    "\n",
    "    1. String --> completed\n",
    "\n",
    "    2. Number --> Integers (Int) and float (decimals) = 0.123\n",
    "\n",
    "    3. list datatype\n",
    "\n",
    "    4. tuples\n",
    "\n",
    "    5. Dictionaries\n"
   ]
  },
  {
   "cell_type": "code",
   "execution_count": null,
   "id": "2897b42f-e138-48fe-b13a-8714602627f9",
   "metadata": {},
   "outputs": [],
   "source": []
  },
  {
   "cell_type": "code",
   "execution_count": null,
   "id": "34ad1fe5-3f0e-44be-932e-5903c43aac67",
   "metadata": {},
   "outputs": [],
   "source": [
    "Introduction to Numbers"
   ]
  },
  {
   "cell_type": "code",
   "execution_count": 1,
   "id": "118c9a22-df10-4f5d-9648-4dca5d4a7f3f",
   "metadata": {},
   "outputs": [
    {
     "name": "stdout",
     "output_type": "stream",
     "text": [
      "123\n"
     ]
    }
   ],
   "source": [
    "number = 123\n",
    "print(number)"
   ]
  },
  {
   "cell_type": "markdown",
   "id": "ec442b26-1fd4-424f-8d68-bdab582a5820",
   "metadata": {},
   "source": []
  },
  {
   "cell_type": "raw",
   "id": "2a8e7b13-584b-4caf-b7ba-78eeb9a8fd44",
   "metadata": {},
   "source": []
  },
  {
   "cell_type": "code",
   "execution_count": null,
   "id": "fdc64de6-c4f1-4acd-a76f-7a0ef024c325",
   "metadata": {},
   "outputs": [],
   "source": [
    "Intruction to list datatype:\n",
    "\n",
    "def: A list is a collection of items defined in a particular order\n",
    "\n",
    "Classification: It is classified as mutable datatype (which we can edit / alter)\n",
    "\n",
    "how to define the list datatype: [] # square brackets."
   ]
  },
  {
   "cell_type": "code",
   "execution_count": null,
   "id": "a022b9ad-53b3-42eb-8fc8-f59bf74b4a0b",
   "metadata": {},
   "outputs": [],
   "source": []
  },
  {
   "cell_type": "code",
   "execution_count": 7,
   "id": "cd873437-15c9-4356-a138-bcef381c14b3",
   "metadata": {},
   "outputs": [
    {
     "name": "stdout",
     "output_type": "stream",
     "text": [
      "['arpita', 'ashwini', 'asma', 'bhuvan']\n"
     ]
    }
   ],
   "source": [
    "students = ['arpita', 'ashwini', 'asma', 'bhuvan']\n",
    "print(students)\n"
   ]
  },
  {
   "cell_type": "code",
   "execution_count": 9,
   "id": "4f9ef532-0fce-40e4-b15b-f0c69205142f",
   "metadata": {},
   "outputs": [
    {
     "name": "stdout",
     "output_type": "stream",
     "text": [
      "['arpita', 'ashwini', 'asma', 'bhuvan']\n"
     ]
    }
   ],
   "source": [
    "print(students)"
   ]
  },
  {
   "cell_type": "code",
   "execution_count": null,
   "id": "7006f2de-e897-4a52-9e8a-1d6859019c22",
   "metadata": {},
   "outputs": [],
   "source": []
  },
  {
   "cell_type": "code",
   "execution_count": 8,
   "id": "7f314ccc-0d95-4759-b505-17e06d33d2b0",
   "metadata": {},
   "outputs": [
    {
     "data": {
      "text/plain": [
       "list"
      ]
     },
     "execution_count": 8,
     "metadata": {},
     "output_type": "execute_result"
    }
   ],
   "source": [
    "type(students)"
   ]
  },
  {
   "cell_type": "code",
   "execution_count": null,
   "id": "6e3ca23c-dba9-4ec6-9419-8d6adf5b0236",
   "metadata": {},
   "outputs": [],
   "source": []
  },
  {
   "cell_type": "code",
   "execution_count": null,
   "id": "683ddb37-31c3-4308-8236-1fe991ae8062",
   "metadata": {},
   "outputs": [],
   "source": [
    "#req : { I want to access ashwini name in the output?"
   ]
  },
  {
   "cell_type": "code",
   "execution_count": 12,
   "id": "6c4145c5-af55-463f-a303-78d37952c92b",
   "metadata": {},
   "outputs": [
    {
     "name": "stdout",
     "output_type": "stream",
     "text": [
      "ashwini\n"
     ]
    }
   ],
   "source": [
    "print(students[1])"
   ]
  },
  {
   "cell_type": "code",
   "execution_count": null,
   "id": "172d3600-0a29-4f16-8650-db99f3ffbc56",
   "metadata": {},
   "outputs": [],
   "source": [
    "#propercase for ashwini"
   ]
  },
  {
   "cell_type": "code",
   "execution_count": 14,
   "id": "ec261523-6a2b-4c7d-8a4d-81067f0363c7",
   "metadata": {},
   "outputs": [
    {
     "name": "stdout",
     "output_type": "stream",
     "text": [
      "Ashwini\n"
     ]
    }
   ],
   "source": [
    "print(students[1].title())"
   ]
  },
  {
   "cell_type": "code",
   "execution_count": null,
   "id": "70e8abe8-30ba-49a8-9793-5a85e3c5f26e",
   "metadata": {},
   "outputs": [],
   "source": []
  },
  {
   "cell_type": "code",
   "execution_count": null,
   "id": "9a52b9e2-9f95-4992-9a5f-f55f1a791f34",
   "metadata": {},
   "outputs": [],
   "source": [
    "# req - bhuvan in the output"
   ]
  },
  {
   "cell_type": "code",
   "execution_count": 16,
   "id": "47dab0f2-7816-4145-9f06-1e7f2c93c3a4",
   "metadata": {},
   "outputs": [
    {
     "name": "stdout",
     "output_type": "stream",
     "text": [
      "Bhuvan\n"
     ]
    }
   ],
   "source": [
    "print(students[3].title())"
   ]
  },
  {
   "cell_type": "code",
   "execution_count": null,
   "id": "0afb3121-f989-4df8-9276-0c5cbd2fbc80",
   "metadata": {},
   "outputs": [],
   "source": []
  },
  {
   "cell_type": "code",
   "execution_count": null,
   "id": "981bc1ac-bd66-4dbb-a7c3-9715c12fbc5e",
   "metadata": {},
   "outputs": [],
   "source": [
    "How to add elements in the list\n",
    "\n",
    "How to modify elements in the list\n",
    "\n",
    "How to delete elements in the list"
   ]
  },
  {
   "cell_type": "code",
   "execution_count": null,
   "id": "88651017-429a-44f1-90be-9c21f46cd5da",
   "metadata": {},
   "outputs": [],
   "source": []
  },
  {
   "cell_type": "code",
   "execution_count": 18,
   "id": "9bda2d8b-5d0c-40a2-99e8-c2a32cefa6b2",
   "metadata": {},
   "outputs": [
    {
     "name": "stdout",
     "output_type": "stream",
     "text": [
      "['arpita', 'ashwini', 'asma', 'bhuvan']\n"
     ]
    }
   ],
   "source": [
    "print(students)"
   ]
  },
  {
   "cell_type": "code",
   "execution_count": null,
   "id": "cc51c04b-e009-492c-9184-9b3996b8f18c",
   "metadata": {},
   "outputs": [],
   "source": []
  },
  {
   "cell_type": "code",
   "execution_count": null,
   "id": "3289c2ff-12b8-4467-830e-7a60698ae2b9",
   "metadata": {},
   "outputs": [],
   "source": [
    "# req : add shafique"
   ]
  },
  {
   "cell_type": "code",
   "execution_count": 20,
   "id": "5aeccd48-3985-468f-8bce-2a25a6ad6a29",
   "metadata": {},
   "outputs": [],
   "source": [
    "students.append('shafi')"
   ]
  },
  {
   "cell_type": "code",
   "execution_count": 21,
   "id": "78c8b4bb-7c36-4873-ad2a-f06c997c43ba",
   "metadata": {},
   "outputs": [
    {
     "name": "stdout",
     "output_type": "stream",
     "text": [
      "['arpita', 'ashwini', 'asma', 'bhuvan', 'shafi']\n"
     ]
    }
   ],
   "source": [
    "print(students)"
   ]
  },
  {
   "cell_type": "code",
   "execution_count": null,
   "id": "5abca218-02e8-4831-a250-8bf67107b4ab",
   "metadata": {},
   "outputs": [],
   "source": [
    "# req: add salim to the list"
   ]
  },
  {
   "cell_type": "code",
   "execution_count": 23,
   "id": "eaf492ba-59d5-4233-917c-31e6b45878b7",
   "metadata": {},
   "outputs": [],
   "source": [
    "students.append('salim')"
   ]
  },
  {
   "cell_type": "code",
   "execution_count": 24,
   "id": "b03f618f-b084-4c68-8dad-feacc3dcc72d",
   "metadata": {},
   "outputs": [
    {
     "name": "stdout",
     "output_type": "stream",
     "text": [
      "['arpita', 'ashwini', 'asma', 'bhuvan', 'shafi', 'salim']\n"
     ]
    }
   ],
   "source": [
    "print(students)"
   ]
  },
  {
   "cell_type": "code",
   "execution_count": null,
   "id": "d4bb967b-322f-40b3-b3ca-e07fce6180f7",
   "metadata": {},
   "outputs": [],
   "source": []
  },
  {
   "cell_type": "code",
   "execution_count": null,
   "id": "01da5ed8-56df-46ac-9168-3df235cc4510",
   "metadata": {},
   "outputs": [],
   "source": [
    "# inset ali at index 3 "
   ]
  },
  {
   "cell_type": "code",
   "execution_count": 25,
   "id": "9f4ef8d3-7add-4576-8d47-fffa5a89e4e8",
   "metadata": {},
   "outputs": [],
   "source": [
    "students.insert(3,'ali')"
   ]
  },
  {
   "cell_type": "code",
   "execution_count": 26,
   "id": "48f47dc5-f6f9-48ab-aa0e-80c3e712b4a9",
   "metadata": {},
   "outputs": [
    {
     "name": "stdout",
     "output_type": "stream",
     "text": [
      "['arpita', 'ashwini', 'asma', 'ali', 'bhuvan', 'shafi', 'salim']\n"
     ]
    }
   ],
   "source": [
    "print(students)"
   ]
  },
  {
   "cell_type": "code",
   "execution_count": null,
   "id": "8b5f2dd9-2564-4228-871a-8300ecaea51d",
   "metadata": {},
   "outputs": [],
   "source": [
    "Note: Index 3 is actually position number 4"
   ]
  },
  {
   "cell_type": "code",
   "execution_count": null,
   "id": "9e6172ef-cef2-41e0-9908-9162bbe97f46",
   "metadata": {},
   "outputs": [],
   "source": []
  },
  {
   "cell_type": "code",
   "execution_count": null,
   "id": "d61eeb56-6fdd-498b-a1c6-d8188e5ead85",
   "metadata": {},
   "outputs": [],
   "source": [
    "** Interview question: differene between append and insert in a list\n",
    "Append is to add data in the last position...insert is to add in the desired position"
   ]
  },
  {
   "cell_type": "code",
   "execution_count": null,
   "id": "29d11873-ee39-4ff4-991e-f2ba471622bd",
   "metadata": {},
   "outputs": [],
   "source": []
  },
  {
   "cell_type": "code",
   "execution_count": null,
   "id": "ba816f08-a3e1-40a9-bb50-0c7fb5e0386b",
   "metadata": {},
   "outputs": [],
   "source": [
    "#req modify arpita to anand"
   ]
  },
  {
   "cell_type": "code",
   "execution_count": 27,
   "id": "7bd33294-27d1-450a-99f6-a069ce177775",
   "metadata": {},
   "outputs": [
    {
     "name": "stdout",
     "output_type": "stream",
     "text": [
      "['anand', 'ashwini', 'asma', 'ali', 'bhuvan', 'shafi', 'salim']\n"
     ]
    }
   ],
   "source": [
    "students[0] = 'anand'\n",
    "print(students)"
   ]
  },
  {
   "cell_type": "code",
   "execution_count": null,
   "id": "5e52500b-2b19-4a28-9e85-166e9bc6ac5a",
   "metadata": {},
   "outputs": [],
   "source": [
    "Mutable data is to be able to modify"
   ]
  },
  {
   "cell_type": "code",
   "execution_count": null,
   "id": "ba43cc57-2161-4b4f-b4c8-1969add477f3",
   "metadata": {},
   "outputs": [],
   "source": []
  },
  {
   "cell_type": "code",
   "execution_count": null,
   "id": "d0baba53-34b2-4471-8b01-07072201d470",
   "metadata": {},
   "outputs": [],
   "source": [
    "# req delete ashwin in the list"
   ]
  },
  {
   "cell_type": "code",
   "execution_count": 29,
   "id": "35f3438a-49a2-4c8f-9417-9afdba146cc9",
   "metadata": {},
   "outputs": [
    {
     "name": "stdout",
     "output_type": "stream",
     "text": [
      "['anand', 'asma', 'ali', 'bhuvan', 'shafi', 'salim']\n"
     ]
    }
   ],
   "source": [
    "students.remove('ashwini')\n",
    "print(students)"
   ]
  },
  {
   "cell_type": "code",
   "execution_count": 30,
   "id": "cd52d3ea-c2b7-4e48-8316-68cd81e4cf3a",
   "metadata": {},
   "outputs": [
    {
     "name": "stdout",
     "output_type": "stream",
     "text": [
      "['anand', 'asma', 'ali', 'shafi', 'salim']\n"
     ]
    }
   ],
   "source": [
    "del students[3]\n",
    "print(students)"
   ]
  },
  {
   "cell_type": "code",
   "execution_count": 31,
   "id": "07046ffc-0923-4ead-831c-8c94fb785f63",
   "metadata": {},
   "outputs": [
    {
     "name": "stdout",
     "output_type": "stream",
     "text": [
      "['anand', 'asma', 'ali', 'shafi', 'salim', 'ismail']\n"
     ]
    }
   ],
   "source": [
    "students.append('ismail')\n",
    "print(students)"
   ]
  },
  {
   "cell_type": "code",
   "execution_count": null,
   "id": "d1aa2438-e842-475b-a01a-2879e565e29e",
   "metadata": {},
   "outputs": [],
   "source": []
  }
 ],
 "metadata": {
  "kernelspec": {
   "display_name": "Python 3 (ipykernel)",
   "language": "python",
   "name": "python3"
  },
  "language_info": {
   "codemirror_mode": {
    "name": "ipython",
    "version": 3
   },
   "file_extension": ".py",
   "mimetype": "text/x-python",
   "name": "python",
   "nbconvert_exporter": "python",
   "pygments_lexer": "ipython3",
   "version": "3.13.5"
  }
 },
 "nbformat": 4,
 "nbformat_minor": 5
}
