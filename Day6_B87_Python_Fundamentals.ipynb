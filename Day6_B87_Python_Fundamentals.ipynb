{
 "cells": [
  {
   "cell_type": "code",
   "execution_count": null,
   "id": "127a59fe-31ab-4715-b296-1c2b78373634",
   "metadata": {},
   "outputs": [],
   "source": [
    "Introduction to Dictionaries"
   ]
  },
  {
   "cell_type": "code",
   "execution_count": null,
   "id": "78eb6414-6a32-4301-a90d-c1adbc367c6b",
   "metadata": {},
   "outputs": [],
   "source": [
    "Defination: A dictionary is a combinition of keys, value pairs. **\n",
    "\n",
    "classification: It is classified as mutable datatype\n",
    "\n",
    "how to define the dictionary : { } # curly brackets \n",
    "\n",
    "Dictionary is the most utilised datatype"
   ]
  },
  {
   "cell_type": "code",
   "execution_count": null,
   "id": "6162a123-72d3-48b9-a6f7-160f30a42608",
   "metadata": {},
   "outputs": [],
   "source": []
  },
  {
   "cell_type": "code",
   "execution_count": null,
   "id": "c7ebe06a-bf63-47b1-89e2-138325d007dd",
   "metadata": {},
   "outputs": [],
   "source": [
    "# req : Design a alien game"
   ]
  },
  {
   "cell_type": "code",
   "execution_count": null,
   "id": "7691b431-dc02-4a05-b6aa-e333546659ae",
   "metadata": {},
   "outputs": [],
   "source": []
  },
  {
   "cell_type": "code",
   "execution_count": 4,
   "id": "36f3306c-e466-4382-8898-6002057802b9",
   "metadata": {},
   "outputs": [
    {
     "name": "stdout",
     "output_type": "stream",
     "text": [
      "{'color': 'green', 'points': 5}\n"
     ]
    }
   ],
   "source": [
    "alien = {'color':'green','points':5}\n",
    "print(alien)"
   ]
  },
  {
   "cell_type": "code",
   "execution_count": 5,
   "id": "c2fa0b51-88e8-4ae0-b66e-63d7237583c0",
   "metadata": {},
   "outputs": [
    {
     "data": {
      "text/plain": [
       "dict"
      ]
     },
     "execution_count": 5,
     "metadata": {},
     "output_type": "execute_result"
    }
   ],
   "source": [
    "type(alien)"
   ]
  },
  {
   "cell_type": "code",
   "execution_count": null,
   "id": "ca8ac90b-eb58-4467-93d6-4375dfa8f464",
   "metadata": {},
   "outputs": [],
   "source": []
  },
  {
   "cell_type": "code",
   "execution_count": null,
   "id": "c376d62a-b9c7-4797-8be7-a9f13e83c4c1",
   "metadata": {},
   "outputs": [],
   "source": [
    "# dictionary is written as dict"
   ]
  },
  {
   "cell_type": "code",
   "execution_count": null,
   "id": "986758f0-19fa-49f0-9707-750b50be9c28",
   "metadata": {},
   "outputs": [],
   "source": [
    "# req : add the start position of the alien"
   ]
  },
  {
   "cell_type": "code",
   "execution_count": null,
   "id": "651ac3ee-361a-4132-9780-6414e1a8ee0e",
   "metadata": {},
   "outputs": [],
   "source": [
    "alien[\"start position] = \"level\""
   ]
  },
  {
   "cell_type": "code",
   "execution_count": 6,
   "id": "5636dff7-73b4-4a4a-9ea3-f65a090dcff9",
   "metadata": {},
   "outputs": [
    {
     "name": "stdout",
     "output_type": "stream",
     "text": [
      "{'color': 'green', 'points': 5}\n"
     ]
    }
   ],
   "source": [
    "print(alien)"
   ]
  },
  {
   "cell_type": "code",
   "execution_count": null,
   "id": "aa35fff2-24e2-4ca4-9efc-415b37e7a8a7",
   "metadata": {},
   "outputs": [],
   "source": [
    "note: In the dictionary keys will be acting as indexes"
   ]
  },
  {
   "cell_type": "code",
   "execution_count": null,
   "id": "248e0ade-6b76-4b83-be1b-357f3ea2d270",
   "metadata": {},
   "outputs": [],
   "source": []
  },
  {
   "cell_type": "code",
   "execution_count": null,
   "id": "26ad46db-9ade-4cb9-b1b3-b1bee5faf496",
   "metadata": {},
   "outputs": [],
   "source": [
    "# req what is the color of alien ? "
   ]
  },
  {
   "cell_type": "code",
   "execution_count": 10,
   "id": "89643b5f-4f4e-475a-aeda-5d507c94eb77",
   "metadata": {},
   "outputs": [
    {
     "name": "stdout",
     "output_type": "stream",
     "text": [
      "green\n"
     ]
    }
   ],
   "source": [
    "print(alien['color'])"
   ]
  },
  {
   "cell_type": "code",
   "execution_count": 11,
   "id": "48608357-c4ec-43ce-b827-81a3e6311693",
   "metadata": {},
   "outputs": [
    {
     "ename": "KeyError",
     "evalue": "0",
     "output_type": "error",
     "traceback": [
      "\u001b[1;31m---------------------------------------------------------------------------\u001b[0m",
      "\u001b[1;31mKeyError\u001b[0m                                  Traceback (most recent call last)",
      "Cell \u001b[1;32mIn[11], line 1\u001b[0m\n\u001b[1;32m----> 1\u001b[0m \u001b[38;5;28mprint\u001b[39m(alien[\u001b[38;5;241m0\u001b[39m])\n",
      "\u001b[1;31mKeyError\u001b[0m: 0"
     ]
    }
   ],
   "source": [
    "print(alien[0])"
   ]
  },
  {
   "cell_type": "code",
   "execution_count": null,
   "id": "a58b42f9-6398-4337-9a7f-3fa757ce7334",
   "metadata": {},
   "outputs": [],
   "source": [
    "Note: Indexes don't work in dictionary....use the direct ke value\n",
    "so use print(alien['color'])"
   ]
  },
  {
   "cell_type": "code",
   "execution_count": 14,
   "id": "92e5cf10-8ff5-45ee-9442-b2697f92e34f",
   "metadata": {},
   "outputs": [
    {
     "name": "stdout",
     "output_type": "stream",
     "text": [
      "green\n"
     ]
    }
   ],
   "source": [
    "print(alien['color'])"
   ]
  },
  {
   "cell_type": "code",
   "execution_count": null,
   "id": "836cb49b-8f34-4651-b900-073468be1020",
   "metadata": {},
   "outputs": [],
   "source": []
  },
  {
   "cell_type": "code",
   "execution_count": null,
   "id": "8647ffd9-fb12-45e7-a8de-b1652a6a77c3",
   "metadata": {},
   "outputs": [],
   "source": [
    "# req  how to modify the key value pairs in the dictionary"
   ]
  },
  {
   "cell_type": "code",
   "execution_count": null,
   "id": "05b216a6-7be5-40c0-b9cd-2e0169f4b611",
   "metadata": {},
   "outputs": [],
   "source": [
    "# req modify the color of the alien from green to red"
   ]
  },
  {
   "cell_type": "code",
   "execution_count": 16,
   "id": "a0193305-70f5-48a6-bd7f-b0c639f7039b",
   "metadata": {},
   "outputs": [],
   "source": [
    "alien['color'] = 'red'"
   ]
  },
  {
   "cell_type": "code",
   "execution_count": 17,
   "id": "01273779-3350-43c3-9b06-0a077fcaf403",
   "metadata": {},
   "outputs": [
    {
     "name": "stdout",
     "output_type": "stream",
     "text": [
      "{'color': 'red', 'points': 5}\n"
     ]
    }
   ],
   "source": [
    "print(alien)"
   ]
  },
  {
   "cell_type": "code",
   "execution_count": null,
   "id": "620df441-1e52-4d4d-bef8-ab9ece9d7755",
   "metadata": {},
   "outputs": [],
   "source": []
  },
  {
   "cell_type": "code",
   "execution_count": null,
   "id": "54b00040-7ad9-436e-a2cb-fd7b026fa4cf",
   "metadata": {},
   "outputs": [],
   "source": [
    "# req : i want ot create a facebook user account"
   ]
  },
  {
   "cell_type": "code",
   "execution_count": null,
   "id": "b3d8a232-861a-4b63-ba5e-57f552759c76",
   "metadata": {},
   "outputs": [],
   "source": []
  },
  {
   "cell_type": "code",
   "execution_count": 19,
   "id": "cbbb74d0-cb3b-4d6e-be4a-de134fa68df6",
   "metadata": {},
   "outputs": [],
   "source": [
    "user_account = {\n",
    "    'firstname': 'newsuer',\n",
    "    'lastname': 'sirg',\n",
    "    'username': 'newusersirg',\n",
    "    'dob': '01-01-2000',\n",
    "    'pwd': '2342'\n",
    "}\n"
   ]
  },
  {
   "cell_type": "code",
   "execution_count": 20,
   "id": "ccddce0c-e52b-4d11-8e3b-375713ece992",
   "metadata": {},
   "outputs": [
    {
     "name": "stdout",
     "output_type": "stream",
     "text": [
      "{'firstname': 'newsuer', 'lastname': 'sirg', 'username': 'newusersirg', 'dob': '01-01-2000', 'pwd': '2342'}\n"
     ]
    }
   ],
   "source": [
    "print(user_account)"
   ]
  },
  {
   "cell_type": "code",
   "execution_count": null,
   "id": "1b1d8ba9-ff91-4ff7-b3c4-4730dfcef2ef",
   "metadata": {},
   "outputs": [],
   "source": []
  },
  {
   "cell_type": "code",
   "execution_count": null,
   "id": "26592906-53e5-4910-b9d4-d78dc4834f48",
   "metadata": {},
   "outputs": [],
   "source": [
    "# del firstname "
   ]
  },
  {
   "cell_type": "code",
   "execution_count": 24,
   "id": "274bd21b-0be7-4ab3-9b1e-417649b0b0b2",
   "metadata": {},
   "outputs": [],
   "source": [
    "del user_account['firstname']"
   ]
  },
  {
   "cell_type": "code",
   "execution_count": 25,
   "id": "30571bc6-2c5e-4bf1-b1cb-9db8875359b5",
   "metadata": {},
   "outputs": [
    {
     "name": "stdout",
     "output_type": "stream",
     "text": [
      "{'lastname': 'sirg', 'username': 'newusersirg', 'dob': '01-01-2000', 'pwd': '2342'}\n"
     ]
    }
   ],
   "source": [
    "print(user_account)"
   ]
  },
  {
   "cell_type": "code",
   "execution_count": null,
   "id": "91655b9c-7635-41a6-b343-bc0a91343052",
   "metadata": {},
   "outputs": [],
   "source": []
  },
  {
   "cell_type": "code",
   "execution_count": null,
   "id": "923925de-c656-4ce6-9d30-e722d94b24a2",
   "metadata": {},
   "outputs": [],
   "source": [
    "# Introduction to looping statements:"
   ]
  },
  {
   "cell_type": "code",
   "execution_count": null,
   "id": "aff3e590-d24b-4b4e-aea5-bfd84d93997f",
   "metadata": {},
   "outputs": [],
   "source": []
  },
  {
   "cell_type": "code",
   "execution_count": 28,
   "id": "abc48799-8e85-408a-8343-cfe08c0f273f",
   "metadata": {},
   "outputs": [
    {
     "name": "stdout",
     "output_type": "stream",
     "text": [
      "['durga', 'kavya', 'noor', 'raza', 'abid', 'nasreen']\n"
     ]
    }
   ],
   "source": [
    "students = ['durga','kavya','noor','raza','abid','nasreen']\n",
    "print(students)"
   ]
  },
  {
   "cell_type": "code",
   "execution_count": null,
   "id": "0e804f3b-e4da-4a6e-af2c-ee6f653d83d9",
   "metadata": {},
   "outputs": [],
   "source": []
  },
  {
   "cell_type": "code",
   "execution_count": 29,
   "id": "9a1b391b-2dd9-401c-8af5-6d0104336165",
   "metadata": {},
   "outputs": [
    {
     "name": "stdout",
     "output_type": "stream",
     "text": [
      "keep up the good wor, Durga\n"
     ]
    }
   ],
   "source": [
    "print(f\"keep up the good wor, {students[0].title()}\")"
   ]
  },
  {
   "cell_type": "code",
   "execution_count": 34,
   "id": "175470d7-b724-4a3c-8f08-3fe0ebc82084",
   "metadata": {},
   "outputs": [
    {
     "name": "stdout",
     "output_type": "stream",
     "text": [
      "keep up the good wor, Kavya\n",
      "keep up the good wor, Noor\n"
     ]
    }
   ],
   "source": [
    "print(f\"keep up the good wor, {students[1].title()}\")\n",
    "print(f\"keep up the good wor, {students[2].title()}\")"
   ]
  },
  {
   "cell_type": "code",
   "execution_count": null,
   "id": "03214519-2aaf-4474-aaf9-8b95b14bc966",
   "metadata": {},
   "outputs": [],
   "source": []
  },
  {
   "cell_type": "code",
   "execution_count": null,
   "id": "46e4c07d-eeff-44ee-a4fd-c91698557d26",
   "metadata": {},
   "outputs": [],
   "source": [
    "This is manual .....instead loop"
   ]
  },
  {
   "cell_type": "code",
   "execution_count": null,
   "id": "b85dffb7-39f9-476a-85c2-dc0211130ace",
   "metadata": {},
   "outputs": [],
   "source": []
  },
  {
   "cell_type": "code",
   "execution_count": null,
   "id": "f37d0ac0-2360-4341-9ac9-393ebee9b6b9",
   "metadata": {},
   "outputs": [],
   "source": [
    "# syntax for loop"
   ]
  },
  {
   "cell_type": "code",
   "execution_count": null,
   "id": "51b6556c-116e-448a-b6ac-075766d5fb22",
   "metadata": {},
   "outputs": [],
   "source": [
    "for tempvar in mainvar:\n",
    "    print(tempvar)"
   ]
  },
  {
   "cell_type": "code",
   "execution_count": 31,
   "id": "9973d007-3d70-460f-8200-b59c31427ab1",
   "metadata": {},
   "outputs": [
    {
     "name": "stdout",
     "output_type": "stream",
     "text": [
      "keep up the good work, Durga\n",
      "keep up the good work, Kavya\n",
      "keep up the good work, Noor\n",
      "keep up the good work, Raza\n",
      "keep up the good work, Abid\n",
      "keep up the good work, Nasreen\n"
     ]
    }
   ],
   "source": [
    "for x in students:\n",
    "    print(f\"keep up the good work, {x.title()}\")"
   ]
  },
  {
   "cell_type": "code",
   "execution_count": null,
   "id": "7e1f4d72-1d4d-4332-8cb8-d0df410919ba",
   "metadata": {},
   "outputs": [],
   "source": []
  },
  {
   "cell_type": "code",
   "execution_count": 37,
   "id": "95732cbf-8d39-4081-81b1-204d4628cacb",
   "metadata": {},
   "outputs": [
    {
     "name": "stdout",
     "output_type": "stream",
     "text": [
      "durga\n",
      "kavya\n",
      "noor\n",
      "raza\n",
      "abid\n",
      "nasreen\n"
     ]
    }
   ],
   "source": [
    "for a in students:\n",
    "    print(a)"
   ]
  },
  {
   "cell_type": "code",
   "execution_count": null,
   "id": "6c5543cb-9d50-46a0-949f-abb66f1eec93",
   "metadata": {},
   "outputs": [],
   "source": []
  },
  {
   "cell_type": "code",
   "execution_count": null,
   "id": "b93b842a-2e44-4474-863f-2adaf6b22fe4",
   "metadata": {},
   "outputs": [],
   "source": []
  },
  {
   "cell_type": "code",
   "execution_count": null,
   "id": "3e9c8f11-6bee-4ecc-bdff-b6e9114c45ae",
   "metadata": {},
   "outputs": [],
   "source": []
  }
 ],
 "metadata": {
  "kernelspec": {
   "display_name": "Python 3 (ipykernel)",
   "language": "python",
   "name": "python3"
  },
  "language_info": {
   "codemirror_mode": {
    "name": "ipython",
    "version": 3
   },
   "file_extension": ".py",
   "mimetype": "text/x-python",
   "name": "python",
   "nbconvert_exporter": "python",
   "pygments_lexer": "ipython3",
   "version": "3.13.5"
  }
 },
 "nbformat": 4,
 "nbformat_minor": 5
}
